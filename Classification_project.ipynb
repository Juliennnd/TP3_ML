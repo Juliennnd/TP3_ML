{
  "nbformat": 4,
  "nbformat_minor": 0,
  "metadata": {
    "colab": {
      "provenance": []
    },
    "kernelspec": {
      "name": "python3",
      "display_name": "Python 3"
    },
    "language_info": {
      "name": "python"
    }
  },
  "cells": [
    {
      "cell_type": "code",
      "execution_count": 3,
      "metadata": {
        "colab": {
          "base_uri": "https://localhost:8080/"
        },
        "id": "jEdrQAmet7FQ",
        "outputId": "2b744e96-9896-456c-cf16-b219e7ab37ed"
      },
      "outputs": [
        {
          "metadata": {
            "tags": null
          },
          "name": "stdout",
          "output_type": "stream",
          "text": [
            "Mounted at /content/drive\n",
            "Found 423 images belonging to 2 classes.\n",
            "Found 164 images belonging to 2 classes.\n"
          ]
        },
        {
          "metadata": {
            "tags": null
          },
          "name": "stderr",
          "output_type": "stream",
          "text": [
            "WARNING:absl:`lr` is deprecated in Keras optimizer, please use `learning_rate` or use the legacy optimizer, e.g.,tf.keras.optimizers.legacy.RMSprop.\n",
            "<ipython-input-3-a0c16cde4df1>:65: UserWarning: `Model.fit_generator` is deprecated and will be removed in a future version. Please use `Model.fit`, which supports generators.\n",
            "  model.fit_generator(\n"
          ]
        },
        {
          "output_type": "stream",
          "name": "stdout",
          "text": [
            "Epoch 1/10\n",
            "27/27 [==============================] - 197s 7s/step - loss: 0.9762 - accuracy: 0.6454 - val_loss: 0.4297 - val_accuracy: 0.7317\n",
            "Epoch 2/10\n",
            "27/27 [==============================] - 170s 6s/step - loss: 0.4881 - accuracy: 0.8582 - val_loss: 0.3776 - val_accuracy: 0.8598\n",
            "Epoch 3/10\n",
            "27/27 [==============================] - 166s 6s/step - loss: 0.1320 - accuracy: 0.9385 - val_loss: 0.3572 - val_accuracy: 0.8963\n",
            "Epoch 4/10\n",
            "27/27 [==============================] - 166s 6s/step - loss: 0.1132 - accuracy: 0.9622 - val_loss: 0.3658 - val_accuracy: 0.8780\n",
            "Epoch 5/10\n",
            "27/27 [==============================] - 167s 6s/step - loss: 0.3017 - accuracy: 0.9574 - val_loss: 0.1088 - val_accuracy: 0.9756\n",
            "Epoch 6/10\n",
            "27/27 [==============================] - 174s 6s/step - loss: 0.0061 - accuracy: 1.0000 - val_loss: 0.1865 - val_accuracy: 0.9390\n",
            "Epoch 7/10\n",
            "27/27 [==============================] - 166s 6s/step - loss: 0.0841 - accuracy: 0.9716 - val_loss: 0.1558 - val_accuracy: 0.9756\n",
            "Epoch 8/10\n",
            "27/27 [==============================] - 167s 6s/step - loss: 0.0077 - accuracy: 0.9976 - val_loss: 0.4643 - val_accuracy: 0.9512\n",
            "Epoch 9/10\n",
            "27/27 [==============================] - 169s 6s/step - loss: 4.2370e-04 - accuracy: 1.0000 - val_loss: 0.3350 - val_accuracy: 0.9756\n",
            "Epoch 10/10\n",
            "27/27 [==============================] - 168s 6s/step - loss: 0.1514 - accuracy: 0.9645 - val_loss: 0.2199 - val_accuracy: 0.9756\n"
          ]
        }
      ],
      "source": [
        "import tensorflow as tf\n",
        "import os\n",
        "import numpy as np\n",
        "from tensorflow.keras.preprocessing.image import ImageDataGenerator\n",
        "from google.colab import drive\n",
        "\n",
        "drive.mount('/content/drive')\n",
        "\n",
        "\n",
        "# Define the path to the folder containing the labeled images\n",
        "train_data_dir ='/content/drive/MyDrive/Dataset_Project/Training_set'\n",
        "validation_data_dir = '/content/drive/MyDrive/Dataset_Project/Testing_set'\n",
        "\n",
        "# Define image parameters\n",
        "img_width, img_height = 416, 416\n",
        "input_shape = (img_width, img_height, 3)\n",
        "\n",
        "# Define batch size and number of epochs\n",
        "batch_size = 16 # à changer\n",
        "epochs = 10\n",
        "\n",
        "# Define data augmentation\n",
        "train_datagen = ImageDataGenerator(\n",
        "        rescale=1./255,\n",
        "        shear_range=0.2,\n",
        "        zoom_range=0.2,\n",
        "        horizontal_flip=True)\n",
        "\n",
        "validation_datagen = ImageDataGenerator(rescale=1./255)\n",
        "\n",
        "# Define training and validation generators\n",
        "train_generator = train_datagen.flow_from_directory(\n",
        "        train_data_dir,\n",
        "        target_size=(img_width, img_height),\n",
        "        batch_size=batch_size,\n",
        "        class_mode='binary')\n",
        "\n",
        "validation_generator = validation_datagen.flow_from_directory(\n",
        "        validation_data_dir,\n",
        "        target_size=(img_width, img_height),\n",
        "        batch_size=batch_size,\n",
        "        class_mode='binary')\n",
        "\n",
        "# Define the model architecture\n",
        "model = tf.keras.models.Sequential([\n",
        "    tf.keras.layers.Conv2D(32, (3,3), activation='relu', input_shape=input_shape),\n",
        "    tf.keras.layers.MaxPooling2D(2,2),\n",
        "    tf.keras.layers.Conv2D(64, (3,3), activation='relu'),\n",
        "    tf.keras.layers.MaxPooling2D(2,2),\n",
        "    tf.keras.layers.Conv2D(128, (3,3), activation='relu'),\n",
        "    tf.keras.layers.MaxPooling2D(2,2),\n",
        "    tf.keras.layers.Conv2D(128, (3,3), activation='relu'),\n",
        "    tf.keras.layers.MaxPooling2D(2,2),\n",
        "    tf.keras.layers.Flatten(),\n",
        "    tf.keras.layers.Dense(512, activation='relu'),\n",
        "    tf.keras.layers.Dense(1, activation='sigmoid')\n",
        "])\n",
        "\n",
        "# Compile the model\n",
        "model.compile(loss='binary_crossentropy',\n",
        "              optimizer=tf.keras.optimizers.RMSprop(lr=1e-4),\n",
        "              metrics=['accuracy'])\n",
        "\n",
        "# Train the model\n",
        "model.fit_generator(\n",
        "        train_generator,\n",
        "        steps_per_epoch=len(train_generator),\n",
        "        epochs=epochs,\n",
        "        validation_data=validation_generator,\n",
        "        validation_steps=len(validation_generator))\n",
        "\n",
        "# Save the model\n",
        "save_path = '/content/drive/MyDrive/Dataset_Project/CNN_model.h5'\n",
        "model.save(save_path)\n",
        "\n"
      ]
    },
    {
      "cell_type": "code",
      "source": [
        "import numpy as np\n",
        "from tensorflow.keras.preprocessing import image\n",
        "\n",
        "\n",
        "# Load the trained model\n",
        "model = tf.keras.models.load_model('/content/drive/MyDrive/Dataset_Project/CNN_model.h5')\n",
        "\n",
        "# Define the path to the image you want to classify\n",
        "img_path = '/content/drive/MyDrive/Dataset_Project/Application/oeil_c.jpg'\n",
        "\n",
        "# Load the image and resize it to match the input size of the model\n",
        "img = image.load_img(img_path, target_size=(416, 416))\n",
        "\n",
        "# Convert the image to a numpy array and normalize its values\n",
        "x = image.img_to_array(img)\n",
        "x = np.expand_dims(x, axis=0)\n",
        "x = x / 255.0\n",
        "\n",
        "# Make a prediction using the model and print the result\n",
        "prediction = model.predict(x)\n",
        "if prediction[0][0] < 0.5:\n",
        "    print('No cataract')\n",
        "else:\n",
        "    print('Cataract')\n"
      ],
      "metadata": {
        "id": "Sdh987L2wImS",
        "colab": {
          "base_uri": "https://localhost:8080/"
        },
        "outputId": "b5839a10-df63-4a44-ac30-333bb41c661d"
      },
      "execution_count": 6,
      "outputs": [
        {
          "output_type": "stream",
          "name": "stdout",
          "text": [
            "1/1 [==============================] - 0s 237ms/step\n",
            "No cataract\n"
          ]
        }
      ]
    }
  ]
}